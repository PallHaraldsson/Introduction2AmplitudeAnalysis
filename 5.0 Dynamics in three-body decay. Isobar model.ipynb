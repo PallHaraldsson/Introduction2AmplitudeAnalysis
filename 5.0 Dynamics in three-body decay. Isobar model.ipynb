{
 "cells": [
  {
   "cell_type": "markdown",
   "metadata": {},
   "source": [
    "# Dymanics in the three-body decay"
   ]
  },
  {
   "cell_type": "code",
   "execution_count": null,
   "metadata": {},
   "outputs": [],
   "source": [
    "using InstantiateFromURL\n",
    "github_project(\"mmikhasenko/Introduction2AmplitudeAnalysis\")"
   ]
  },
  {
   "cell_type": "markdown",
   "metadata": {},
   "source": [
    "1. Scattering amplitude: d.o.f.\n",
    "2. $|M|^2 = 1$ $\\Rightarrow$ flat Dalitz\n",
    "3. Subchannel resonances: bands on the Dalitz plot\n",
    "4. Projections and reflections\n",
    "5. Intensity along the line band"
   ]
  },
  {
   "cell_type": "code",
   "execution_count": null,
   "metadata": {},
   "outputs": [],
   "source": [
    "A(σs::Invariants)"
   ]
  }
 ],
 "metadata": {
  "kernelspec": {
   "display_name": "Julia 1.5.0",
   "language": "julia",
   "name": "julia-1.5"
  },
  "language_info": {
   "file_extension": ".jl",
   "mimetype": "application/julia",
   "name": "julia",
   "version": "1.5.0"
  }
 },
 "nbformat": 4,
 "nbformat_minor": 2
}
